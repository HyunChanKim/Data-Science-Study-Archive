{
  "nbformat": 4,
  "nbformat_minor": 0,
  "metadata": {
    "colab": {
      "name": "TrainsetandTestset.ipynb",
      "provenance": [],
      "collapsed_sections": []
    },
    "kernelspec": {
      "name": "python3",
      "display_name": "Python 3"
    },
    "language_info": {
      "name": "python"
    }
  },
  "cells": [
    {
      "cell_type": "code",
      "source": [
        "fish_length = [25.4, 26.3, 26.5, 29.0, 29.0, 29.7, 29.7, 30.0, 30.0, 30.7, 31.0, 31.0, \n",
        "                31.5, 32.0, 32.0, 32.0, 33.0, 33.0, 33.5, 33.5, 34.0, 34.0, 34.5, 35.0, \n",
        "                35.0, 35.0, 35.0, 36.0, 36.0, 37.0, 38.5, 38.5, 39.5, 41.0, 41.0, 9.8, \n",
        "                10.5, 10.6, 11.0, 11.2, 11.3, 11.8, 11.8, 12.0, 12.2, 12.4, 13.0, 14.3, 15.0]\n",
        "fish_weight = [242.0, 290.0, 340.0, 363.0, 430.0, 450.0, 500.0, 390.0, 450.0, 500.0, 475.0, 500.0, \n",
        "                500.0, 340.0, 600.0, 600.0, 700.0, 700.0, 610.0, 650.0, 575.0, 685.0, 620.0, 680.0, \n",
        "                700.0, 725.0, 720.0, 714.0, 850.0, 1000.0, 920.0, 955.0, 925.0, 975.0, 950.0, 6.7, \n",
        "                7.5, 7.0, 9.7, 9.8, 8.7, 10.0, 9.9, 9.8, 12.2, 13.4, 12.2, 19.7, 19.9]"
      ],
      "metadata": {
        "id": "87Ey3ur-qw0m"
      },
      "execution_count": 1,
      "outputs": []
    },
    {
      "cell_type": "code",
      "source": [
        "fish_data = [[l,w] for l,w in zip(fish_length,fish_weight)]\n",
        "fish_target = [1]*35 + [0]*14"
      ],
      "metadata": {
        "id": "eGKAsPIAq1zF"
      },
      "execution_count": 3,
      "outputs": []
    },
    {
      "cell_type": "code",
      "source": [
        "from sklearn.neighbors import KNeighborsClassifier\n",
        "kn = KNeighborsClassifier"
      ],
      "metadata": {
        "id": "CRqR1LCorDjM"
      },
      "execution_count": 4,
      "outputs": []
    },
    {
      "cell_type": "code",
      "source": [
        "print(fish_data[4])"
      ],
      "metadata": {
        "id": "im7cqSyorJsf"
      },
      "execution_count": null,
      "outputs": []
    },
    {
      "cell_type": "code",
      "source": [
        "import numpy as np"
      ],
      "metadata": {
        "id": "AibAtOkArNMG"
      },
      "execution_count": 7,
      "outputs": []
    },
    {
      "cell_type": "code",
      "source": [
        "input_arr = np.array(fish_data)\n",
        "target_arr = np.array(fish_target)"
      ],
      "metadata": {
        "id": "bDLvxty2rT_h"
      },
      "execution_count": 8,
      "outputs": []
    },
    {
      "cell_type": "code",
      "source": [
        "print(input_arr)"
      ],
      "metadata": {
        "id": "NWmYnxubrkiK"
      },
      "execution_count": null,
      "outputs": []
    },
    {
      "cell_type": "code",
      "source": [
        "print(input_arr.shape)"
      ],
      "metadata": {
        "id": "FjS5o4Wirpor"
      },
      "execution_count": null,
      "outputs": []
    },
    {
      "cell_type": "code",
      "source": [
        "np.random.seed(42)\n",
        "index = np.arange(49) #1~49의 순차적인 인덱스를 새롭게 생성하고 변수를 지정해준다.\n",
        "np.random.shuffle(index) #그리고 그인덱스를 위에서 생성한 난수생성 (시드넘버42) 설정한 것을 이용해 인덱스를 셔플해준다."
      ],
      "metadata": {
        "id": "3M68uw-WrurO"
      },
      "execution_count": 14,
      "outputs": []
    },
    {
      "cell_type": "code",
      "source": [
        "print(index) #순차적인 인덱스가 셔플메소드에 의해서 잘 섞인 것을 확인할 수 있다."
      ],
      "metadata": {
        "colab": {
          "base_uri": "https://localhost:8080/"
        },
        "id": "rx5uOKJMsn3J",
        "outputId": "9351228b-c7b8-45b5-c401-70b5ef81bd46"
      },
      "execution_count": 42,
      "outputs": [
        {
          "output_type": "stream",
          "name": "stdout",
          "text": [
            "[13 45 47 44 17 27 26 25 31 19 12  4 34  8  3  6 40 41 46 15  9 16 24 33\n",
            " 30  0 43 32  5 29 11 36  1 21  2 37 35 23 39 10 22 18 48 20  7 42 14 28\n",
            " 38]\n"
          ]
        }
      ]
    },
    {
      "cell_type": "code",
      "source": [
        "# 배열 인덱싱 기능에 대하여\n",
        "print(input_arr[1]) #여기서 input_arr는 fish_data의 array 타입임을 잊지말 것 fish_data는 2차원리스트, 리스트의 리스트였다.\n",
        "print(input_arr[[1,3]]) #인덱싱을 리스트형태를 받아서 리스트에 적혀있는 각각의 원소번호를 추출하는 것."
      ],
      "metadata": {
        "id": "ItbBJgnAs0Za"
      },
      "execution_count": null,
      "outputs": []
    },
    {
      "cell_type": "code",
      "source": [
        "train_input = input_arr[index[:35]] #위에서와 마찬가지로 리스트 대신 넘파이 배열도 전달 할 수 있기에 이런 형태도 가능\n",
        "train_target = target_arr[index[:35]]"
      ],
      "metadata": {
        "id": "mHw12aBBvf59"
      },
      "execution_count": 47,
      "outputs": []
    },
    {
      "cell_type": "code",
      "source": [
        "print(input_arr[13], train_input[0]) #input array는 인덱스를 섞은 것을 적용하기전의 fish_data를 array로 변환하기만 한 데이터\n",
        "# 반면에 train_input은 인덱스 섞은 것 numpy의 랜덤, 셔플메소드를 적용시킨 난수 인덱스 어레이배열을 적용시킨, 섞인 fish_data의 어레이형태."
      ],
      "metadata": {
        "id": "DsLk3ggrv_Yn"
      },
      "execution_count": null,
      "outputs": []
    },
    {
      "cell_type": "code",
      "source": [
        "test_input = input_arr[index[35:]]\n",
        "test_target = target_arr[index[35:]]"
      ],
      "metadata": {
        "id": "_hpt3qmhxkhn"
      },
      "execution_count": 51,
      "outputs": []
    },
    {
      "cell_type": "code",
      "source": [
        "import matplotlib.pyplot as plt\n",
        "plt.scatter(train_input[:,0],train_input[:,1]) #train_input 인덱스를 섞은 어레이 훈련데이터의 0열을 x, 1열을 y로 지정)\n",
        "plt.scatter(test_input[:,0],test_input[:,1]) #테스트데이터 섞은 것 \n",
        "plt.xlabel('length')\n",
        "plt.ylabel('weight')\n",
        "plt.show() # 이제 파란색이 훈련데이터고, 주황색이 테스트 데이터이다."
      ],
      "metadata": {
        "id": "w4qvaq2mxs4D"
      },
      "execution_count": null,
      "outputs": []
    }
  ]
}